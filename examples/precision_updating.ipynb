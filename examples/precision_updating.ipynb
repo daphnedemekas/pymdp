{
 "cells": [
  {
   "cell_type": "code",
   "execution_count": 6,
   "metadata": {},
   "outputs": [],
   "source": [
    "\"\"\"Implementation of computational phenomenology of mental action by Lars Standved Smith\n",
    "https://colab.research.google.com/drive/1IiMWXRF3tGbVh9Ywm0LuD_Lmurvta04Q?usp=sharing#scrollTo=JWjsZs6SqZZe\n",
    "Using pymdp with precision updating \"\"\"\n",
    "\n",
    "import os \n",
    "import sys\n",
    "import pathlib\n",
    "path = pathlib.Path(os.getcwd())\n",
    "module_path = str(path.parent) + '/'\n",
    "sys.path.append(module_path)\n",
    "import numpy as np"
   ]
  },
  {
   "cell_type": "code",
   "execution_count": 39,
   "metadata": {},
   "outputs": [],
   "source": [
    "from pymdp.agent import Agent\n",
    "\n",
    "# We have three generative models that are stacked hierarchically \n",
    "\n",
    "#First (lowest level) generative model \n",
    "\n",
    "num_states = [2]\n",
    "num_factors = 1\n",
    "B = np.zeros((2,2,2))\n",
    "\n",
    "B[:,0,:] = [[0.8,0.2],[0.2,0.8]]\n",
    "B[:,1,:] = [[0.8,0.2],[0.2,0.8]]\n",
    "\n",
    "A = np.zeros((2,2))\n",
    "A[:,0] = [0.75,0.25]\n",
    "A[:,1] = [0.25,0.75]\n",
    "\n",
    "beta = np.array([0.5,2.0]) # precision of the observation model, i think it depends on the generative process \n",
    "\n",
    "D = np.array([0.5,0.5]) # initial prior over states\n",
    "\n",
    "C = np.zeros(2) #not sure what the observation prior is for the lowest level \n",
    "\n",
    "#does the lowest level agent have likelihood and transition precicsions?\n",
    "level_1_agent = Agent(A=A, B=B, C=C, D=D)\n"
   ]
  },
  {
   "cell_type": "code",
   "execution_count": 21,
   "metadata": {},
   "outputs": [],
   "source": [
    "#Second level agent \n",
    "\n",
    "num_states = [2]\n",
    "num_factors = 1\n",
    "\n",
    "B = np.zeros((2,2,2))\n",
    "\n",
    "B[:,0,0] = [0.8,0.2]\n",
    "B[:,1,0] = [0.0,1.0]\n",
    "\n",
    "B[:,0,1] = [0.0,1.0]\n",
    "B[:,1,1] = [1.0,0.0]\n",
    "\n",
    "A = np.zeros((2,2))\n",
    "A[:,0] = [0.75,0.25]\n",
    "A[:,1] = [0.25,0.75]\n",
    "\n",
    "C = np.array([2,-2])\n",
    "\n",
    "D = np.array([0.5,0.5])\n",
    "likelihood_precision = 1.0\n",
    "#in the notebook it says gammaA2 = 1.0, is that the likelihood precision? \n",
    "\n",
    "level_2_agent = Agent(A=A, B=B, C=C, D=D, likelihood_precision=likelihood_precision)\n",
    "\n",
    "\n"
   ]
  },
  {
   "cell_type": "code",
   "execution_count": null,
   "metadata": {},
   "outputs": [],
   "source": [
    "#Third level agent \n",
    "\n",
    "num_states = [2]\n",
    "num_factors = 1\n",
    "B = np.zeros((2,2,2))\n",
    "B[:,0,0] = [[0.9,0.1],[0.1,0.9]]\n",
    "B[:,1,0] = [[0.9,0.1],[0.1,0.9]]\n",
    "\n",
    "#not really sure what A is for the third level \n",
    "\n"
   ]
  },
  {
   "cell_type": "code",
   "execution_count": null,
   "metadata": {},
   "outputs": [],
   "source": [
    "T = 10\n",
    "\n",
    "O = np.zeros(T)\n",
    "\n",
    "O[int(T/5)]=1;              ### generative process determined by experimenter\n",
    "O[int(2*T/5)]=1;              ### generative process determined by experimenter\n",
    "O[int(3*T/5)]=1;              ### generative process determined by experimenter\n",
    "O[int(4*T/5)]=1;              ### generative process determined by experimenter\n",
    "\n",
    "\n",
    "observations = np.zeros((2,T))     ### observation posterior (standard vs oddball)\n",
    "for t in range(T):\n",
    "  observations[int(O[t]),t]=1\n"
   ]
  },
  {
   "cell_type": "markdown",
   "metadata": {},
   "source": []
  },
  {
   "cell_type": "code",
   "execution_count": 43,
   "metadata": {},
   "outputs": [
    {
     "name": "stdout",
     "output_type": "stream",
     "text": [
      "Observation at time 0 is [1, 0]\n",
      "qs: [array([0.57142857, 0.42857143])]\n",
      "Action: [1.]\n",
      "Observation at time 1 is [1, 0]\n",
      "qs: [array([0.07692308, 0.92307692])]\n",
      "Action: [1.]\n",
      "Observation at time 2 is [0, 1]\n",
      "qs: [array([0.42857143, 0.57142857])]\n",
      "Action: [0.]\n",
      "Observation at time 3 is [1, 0]\n",
      "qs: [array([0.57142857, 0.42857143])]\n",
      "Action: [0.]\n",
      "Observation at time 4 is [0, 1]\n",
      "qs: [array([0.92307692, 0.07692308])]\n",
      "Action: [1.]\n",
      "Observation at time 5 is [1, 0]\n",
      "qs: [array([0.07692308, 0.92307692])]\n",
      "Action: [0.]\n",
      "Observation at time 6 is [0, 1]\n",
      "qs: [array([0.92307692, 0.07692308])]\n",
      "Action: [1.]\n",
      "Observation at time 7 is [1, 0]\n",
      "qs: [array([0.07692308, 0.92307692])]\n",
      "Action: [1.]\n",
      "Observation at time 8 is [0, 1]\n",
      "qs: [array([0.42857143, 0.57142857])]\n",
      "Action: [1.]\n",
      "Observation at time 9 is [1, 0]\n",
      "qs: [array([0.07692308, 0.92307692])]\n",
      "Action: [1.]\n"
     ]
    }
   ],
   "source": [
    "\n",
    "for t in range(T):\n",
    "  observation = [0,0]\n",
    "  observation[int(O[t])]=1\n",
    "  #how do I know what my observation is (standard or oddball?)\n",
    "  print(f\"Observation at time {t} is {observation}\")\n",
    "  qs = level_1_agent.infer_states(observation)\n",
    "  print(f\"qs: {qs}\")\n",
    "\n",
    "  level_1_agent.infer_policies()\n",
    "\n",
    "  action = level_1_agent.sample_action()\n",
    "\n",
    "  print(f\"Action: {action}\")\n",
    "\n",
    "  #based on this, we should be able to now have the observations for the second level agent \n",
    "\n",
    "\n",
    "  \n"
   ]
  },
  {
   "cell_type": "code",
   "execution_count": 26,
   "metadata": {},
   "outputs": [
    {
     "data": {
      "text/plain": [
       "array([[1., 1., 0., 1., 0., 1., 0., 1., 0., 1.],\n",
       "       [0., 0., 1., 0., 1., 0., 1., 0., 1., 0.]])"
      ]
     },
     "execution_count": 26,
     "metadata": {},
     "output_type": "execute_result"
    }
   ],
   "source": [
    "observations"
   ]
  },
  {
   "cell_type": "code",
   "execution_count": null,
   "metadata": {},
   "outputs": [],
   "source": []
  }
 ],
 "metadata": {
  "kernelspec": {
   "display_name": "Python 3",
   "language": "python",
   "name": "python3"
  },
  "language_info": {
   "codemirror_mode": {
    "name": "ipython",
    "version": 3
   },
   "file_extension": ".py",
   "mimetype": "text/x-python",
   "name": "python",
   "nbconvert_exporter": "python",
   "pygments_lexer": "ipython3",
   "version": "3.9.6"
  }
 },
 "nbformat": 4,
 "nbformat_minor": 2
}
